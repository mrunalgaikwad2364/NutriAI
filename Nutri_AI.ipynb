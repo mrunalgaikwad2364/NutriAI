{
  "nbformat": 4,
  "nbformat_minor": 0,
  "metadata": {
    "colab": {
      "provenance": []
    },
    "kernelspec": {
      "name": "python3",
      "display_name": "Python 3"
    },
    "language_info": {
      "name": "python"
    }
  },
  "cells": [
    {
      "cell_type": "code",
      "execution_count": null,
      "metadata": {
        "colab": {
          "base_uri": "https://localhost:8080/"
        },
        "id": "CczLyJcK-6Qp",
        "outputId": "9a98d681-ec16-4f4e-99cc-4b0d6d0504c1"
      },
      "outputs": [
        {
          "output_type": "stream",
          "name": "stdout",
          "text": [
            "\u001b[2K     \u001b[90m━━━━━━━━━━━━━━━━━━━━━━━━━━━━━━━━━━━━━━━━\u001b[0m \u001b[32m43.7/43.7 kB\u001b[0m \u001b[31m2.4 MB/s\u001b[0m eta \u001b[36m0:00:00\u001b[0m\n",
            "\u001b[2K   \u001b[90m━━━━━━━━━━━━━━━━━━━━━━━━━━━━━━━━━━━━━━━━\u001b[0m \u001b[32m152.5/152.5 kB\u001b[0m \u001b[31m6.1 MB/s\u001b[0m eta \u001b[36m0:00:00\u001b[0m\n",
            "\u001b[2K   \u001b[90m━━━━━━━━━━━━━━━━━━━━━━━━━━━━━━━━━━━━━━━━\u001b[0m \u001b[32m42.0/42.0 kB\u001b[0m \u001b[31m2.4 MB/s\u001b[0m eta \u001b[36m0:00:00\u001b[0m\n",
            "\u001b[2K   \u001b[90m━━━━━━━━━━━━━━━━━━━━━━━━━━━━━━━━━━━━━━━━\u001b[0m \u001b[32m767.7/767.7 kB\u001b[0m \u001b[31m31.2 MB/s\u001b[0m eta \u001b[36m0:00:00\u001b[0m\n",
            "\u001b[2K   \u001b[90m━━━━━━━━━━━━━━━━━━━━━━━━━━━━━━━━━━━━━━━━\u001b[0m \u001b[32m8.7/8.7 MB\u001b[0m \u001b[31m82.8 MB/s\u001b[0m eta \u001b[36m0:00:00\u001b[0m\n",
            "\u001b[2K   \u001b[90m━━━━━━━━━━━━━━━━━━━━━━━━━━━━━━━━━━━━━━━━\u001b[0m \u001b[32m43.9/43.9 kB\u001b[0m \u001b[31m2.6 MB/s\u001b[0m eta \u001b[36m0:00:00\u001b[0m\n",
            "\u001b[2K   \u001b[90m━━━━━━━━━━━━━━━━━━━━━━━━━━━━━━━━━━━━━━━━\u001b[0m \u001b[32m50.6/50.6 kB\u001b[0m \u001b[31m3.2 MB/s\u001b[0m eta \u001b[36m0:00:00\u001b[0m\n",
            "\u001b[2K   \u001b[90m━━━━━━━━━━━━━━━━━━━━━━━━━━━━━━━━━━━━━━━━\u001b[0m \u001b[32m216.5/216.5 kB\u001b[0m \u001b[31m14.5 MB/s\u001b[0m eta \u001b[36m0:00:00\u001b[0m\n",
            "\u001b[?25h"
          ]
        }
      ],
      "source": [
        "# STEP 0: Install dependencies\n",
        "!pip install -qU google-generativeai==0.8.5 google-ai-generativelanguage==0.6.15 langgraph langchain langchain-google-genai openai matplotlib"
      ]
    },
    {
      "cell_type": "code",
      "source": [
        "# STEP 1: Imports and secure API key input\n",
        "import os\n",
        "import matplotlib.pyplot as plt\n",
        "from langgraph.graph import StateGraph, END\n",
        "from langchain_google_genai import ChatGoogleGenerativeAI\n",
        "from langchain_core.messages import HumanMessage\n",
        "import re\n",
        "\n",
        "# Secure Gemini API Key input (for Colab use only)\n",
        "from google.colab import userdata\n",
        "GOOGLE_API_KEY = userdata.get('GOOGLE_API_KEY')"
      ],
      "metadata": {
        "id": "ga0YKA6W_UY6"
      },
      "execution_count": null,
      "outputs": []
    },
    {
      "cell_type": "code",
      "source": [
        "# STEP 2: Initialize Gemini\n",
        "llm = ChatGoogleGenerativeAI(model=\"models/gemini-1.5-flash-latest\", temperature=0.2, google_api_key=GOOGLE_API_KEY)"
      ],
      "metadata": {
        "id": "6oV9E8bM_ZBx"
      },
      "execution_count": null,
      "outputs": []
    },
    {
      "cell_type": "code",
      "source": [
        "# STEP 3: Ask user for basic details before goal\n",
        "\n",
        "def get_user_input(state: dict) -> dict:\n",
        "    print(\"Namaste 🙏! I am NutriAI, your Indian dietician. Let's begin your health journey!\")\n",
        "    name = input(\"👤 What's your name? \")\n",
        "    age = int(input(\"🎂 Your age: \"))\n",
        "    gender = input(\"⚧️ Your gender (male/female/other): \").strip().lower()\n",
        "    goal = input(\"🏁 Your health goal? (weight loss/gain, healthy diet): \")\n",
        "    preference = input(\"🌿 Diet preference (veg/non-veg/vegan): \")\n",
        "    region = input(\"🍛 Preferred Indian cuisine region: \")\n",
        "    health_issue = input(\"🩺 Any health issues? (PCOS, acne, thyroid, etc.): \")\n",
        "    height = float(input(\"📏 Height in cm: \").strip())\n",
        "    weight = float(input(\"⚖️ Weight in kg: \").strip())\n",
        "    activity_level = input(\"🏃 Activity level (low, moderate, high): \").strip().lower()\n",
        "\n",
        "    state.update({\"name\": name, \"age\": age, \"gender\": gender, \"goal\": goal, \"preference\": preference, \"region\": region, \"health_issue\": health_issue, \"height\": height, \"weight\": weight, \"activity_level\": activity_level})\n",
        "    return state\n",
        "\n",
        "# STEP 4: Classify the user's dietary category\n",
        "\n",
        "def classify_goal(state: dict) -> dict:\n",
        "    goal = state['goal']\n",
        "    if \"loss\" in goal.lower():\n",
        "        category = \"Weight Loss\"\n",
        "    elif \"gain\" in goal.lower():\n",
        "        category = \"Weight Gain\"\n",
        "    else:\n",
        "        category = \"Balanced Diet\"\n",
        "    print(f\"🎯 Goal classified as: {category}\")\n",
        "    state[\"category\"] = category\n",
        "    return state\n",
        "\n",
        "# STEP 5: Route based on goal\n",
        "\n",
        "def diet_router(state: dict) -> str:\n",
        "    cat = state[\"category\"].lower()\n",
        "    if \"loss\" in cat:\n",
        "        return \"loss\"\n",
        "    elif \"gain\" in cat:\n",
        "        return \"gain\"\n",
        "    return \"balanced\""
      ],
      "metadata": {
        "id": "H--0za0g_iBw"
      },
      "execution_count": null,
      "outputs": []
    },
    {
      "cell_type": "code",
      "source": [
        "# STEP 6: Generate personalized meal plan\n",
        "\n",
        "def generate_plan(state: dict, goal_type: str) -> dict:\n",
        "    soft = \"Prefer soft/easy-to-digest foods.\" if state[\"age\"] > 50 else \"\"\n",
        "    prompt = f\"Namaste {state['name']} 🙏! I am NutriAI, your Indian dietician. Let's create your Indian meal plan. Goal: {state['goal']} ({goal_type}) Age: {state['age']}, Gender: {state['gender']}, Region: {state['region']}, Diet: {state['preference']}, Health Issues: {state['health_issue']}. {soft} Suggest a full day's meal plan with traditional foods.\"\n",
        "    response = llm.invoke([HumanMessage(content=prompt)])\n",
        "    state[\"plan\"] = response.content.strip()\n",
        "    print(\"\\n🍽️ Your Personalized Diet Plan:\\n\")\n",
        "    print(state[\"plan\"])\n",
        "    return state\n",
        "\n",
        "def loss_node(state): return generate_plan(state, \"Weight Loss\")\n",
        "def gain_node(state): return generate_plan(state, \"Weight Gain\")\n",
        "def balanced_node(state): return generate_plan(state, \"Balanced\")\n",
        "\n",
        "# STEP 7: Nutrition calculator\n",
        "\n",
        "def nutrition_summary(state: dict) -> dict:\n",
        "    bmr = 10 * state['weight'] + 6.25 * state['height'] - 5 * state['age']\n",
        "    bmr += -161 if state['gender'] == 'female' else 5\n",
        "    factor = {'low': 1.2, 'moderate': 1.55, 'high': 1.725}[state['activity_level']]\n",
        "    calories = bmr * factor\n",
        "    protein = state['weight'] * 1.2\n",
        "    state.update({\"calories\": round(calories), \"protein\": round(protein)})\n",
        "    print(\"\\n📊 Daily Nutrition Goal:\")\n",
        "    print(f\"Calories: {state['calories']} kcal, Protein: {state['protein']} g\")\n",
        "    return state"
      ],
      "metadata": {
        "id": "jw9HvOZSAodQ"
      },
      "execution_count": null,
      "outputs": []
    },
    {
      "cell_type": "code",
      "source": [
        "# STEP 8: Track what user ate\n",
        "\n",
        "def track_meals(state: dict) -> dict:\n",
        "    print(\"\\n🧾 What did you eat today:\")\n",
        "    meals = {meal: input(f\"🍽️ {meal.capitalize()}: \") for meal in ['breakfast', 'lunch', 'dinner', 'snacks']}\n",
        "    meal_summary = \"\\n\".join([f\"{m.capitalize()}: {v}\" for m,v in meals.items()])\n",
        "    prompt = f\"Estimate total calories and protein for:\\n{meal_summary}\\nFormat: Calories: X kcal, Protein: Y g\"\n",
        "    response = llm.invoke([HumanMessage(content=prompt)])\n",
        "    state.update({\"meal_summary\": meal_summary, \"meal_analysis\": response.content.strip()})\n",
        "    print(\"\\n📋 Logged Intake:\")\n",
        "    print(response.content.strip())\n",
        "    return state\n",
        "\n",
        "# STEP 9: Remaining calories/protein\n",
        "\n",
        "def track_remaining(state: dict) -> dict:\n",
        "    cal = re.search(r'Calories\\D+(\\d+)', state[\"meal_analysis\"])\n",
        "    prot = re.search(r'Protein\\D+(\\d+)', state[\"meal_analysis\"])\n",
        "    cals = int(cal.group(1)) if cal else 0\n",
        "    prots = int(prot.group(1)) if prot else 0\n",
        "    rc, rp = max(state['calories'] - cals, 0), max(state['protein'] - prots, 0)\n",
        "    print(\"\\n📉 Remaining Today:\")\n",
        "    print(f\"Calories left: {rc} kcal, Protein left: {rp} g\")\n",
        "    return state\n",
        "\n",
        "# STEP 10: Recommend exercise\n",
        "\n",
        "def suggest_exercise(state: dict) -> dict:\n",
        "    prompt = f\"Suggest a short Indian home workout (can include yoga) for Goal: {state['goal']}, Gender: {state['gender']}, Age: {state['age']}, Health: {state['health_issue']}\"\n",
        "    response = llm.invoke([HumanMessage(content=prompt)])\n",
        "    print(\"\\n🏃 Exercise/Yoga:\")\n",
        "    print(response.content.strip())\n",
        "    state[\"exercise\"] = response.content.strip()\n",
        "    return state"
      ],
      "metadata": {
        "id": "-sZBgGomAtKX"
      },
      "execution_count": null,
      "outputs": []
    },
    {
      "cell_type": "code",
      "source": [
        "# STEP 11: LangGraph flow\n",
        "\n",
        "builder = StateGraph(dict)\n",
        "builder.set_entry_point(\"get_user_input\")\n",
        "builder.add_node(\"get_user_input\", get_user_input)\n",
        "builder.add_node(\"classify\", classify_goal)\n",
        "builder.add_node(\"loss\", loss_node)\n",
        "builder.add_node(\"gain\", gain_node)\n",
        "builder.add_node(\"balanced\", balanced_node)\n",
        "builder.add_node(\"summary\", nutrition_summary)\n",
        "builder.add_node(\"track_meals\", track_meals)\n",
        "builder.add_node(\"track_remaining\", track_remaining)\n",
        "builder.add_node(\"exercise\", suggest_exercise)\n",
        "\n",
        "builder.add_edge(\"get_user_input\", \"classify\")\n",
        "builder.add_conditional_edges(\"classify\", diet_router, {\"loss\": \"loss\", \"gain\": \"gain\", \"balanced\": \"balanced\"})\n",
        "builder.add_edge(\"loss\", \"summary\")\n",
        "builder.add_edge(\"gain\", \"summary\")\n",
        "builder.add_edge(\"balanced\", \"summary\")\n",
        "builder.add_edge(\"summary\", \"track_meals\")\n",
        "builder.add_edge(\"track_meals\", \"track_remaining\")\n",
        "builder.add_edge(\"track_remaining\", \"exercise\")\n",
        "builder.add_edge(\"exercise\", END)"
      ],
      "metadata": {
        "colab": {
          "base_uri": "https://localhost:8080/"
        },
        "id": "Ec3SJZu3AzXx",
        "outputId": "d858390a-0941-42f3-a0e6-0cc181b4a4be"
      },
      "execution_count": null,
      "outputs": [
        {
          "output_type": "execute_result",
          "data": {
            "text/plain": [
              "<langgraph.graph.state.StateGraph at 0x7a28ca20cbd0>"
            ]
          },
          "metadata": {},
          "execution_count": 8
        }
      ]
    },
    {
      "cell_type": "code",
      "source": [
        "# STEP 12: Run\n",
        "\n",
        "final_state = builder.compile().invoke({})"
      ],
      "metadata": {
        "colab": {
          "base_uri": "https://localhost:8080/"
        },
        "id": "sltu1AdBAzUV",
        "outputId": "3116df1a-d86c-4a87-d795-3a1bc9a8384b"
      },
      "execution_count": null,
      "outputs": [
        {
          "output_type": "stream",
          "name": "stdout",
          "text": [
            "Namaste 🙏! I am NutriAI, your Indian dietician. Let's begin your health journey!\n",
            "👤 What's your name? mrunal\n",
            "🎂 Your age: 21\n",
            "⚧️ Your gender (male/female/other): female\n",
            "🏁 Your health goal? (weight loss/gain, healthy diet): weight gain\n",
            "🌿 Diet preference (veg/non-veg/vegan): veg\n",
            "🍛 Preferred Indian cuisine region: maharashtra\n",
            "🩺 Any health issues? (PCOS, acne, thyroid, etc.): no\n",
            "📏 Height in cm: 150\n",
            "⚖️ Weight in kg: 36\n",
            "🏃 Activity level (low, moderate, high): low\n",
            "🎯 Goal classified as: Weight Gain\n",
            "\n",
            "🍽️ Your Personalized Diet Plan:\n",
            "\n",
            "Namaste NutriAI!  It's a pleasure to work with you.  Here's a sample Maharashtran vegetarian meal plan for weight gain, keeping in mind a 21-year-old female with no health issues.  Remember, this is a *sample* plan, and individual calorie needs vary.  It's best to consult with a doctor or registered dietitian for personalized recommendations.  This plan focuses on calorie-dense, nutritious foods common in Maharashtra.\n",
            "\n",
            "**Important Note:** Portion sizes should be adjusted based on your appetite and activity level.  Gradually increase portion sizes over time to avoid digestive discomfort.\n",
            "\n",
            "**Day's Meal Plan:**\n",
            "\n",
            "**Breakfast (7:00 AM - 8:00 AM):**\n",
            "\n",
            "* **Misal Pav (2 Pav):** A classic Maharashtrian breakfast.  Ensure you have a good amount of the misal (spiced lentil preparation) for calories and protein.  Add a dollop of butter or ghee for extra calories.\n",
            "* **A glass of milk (full-fat):**  Provides calcium and healthy fats.  You can add a teaspoon of sugar if needed.\n",
            "\n",
            "**Mid-Morning Snack (10:30 AM - 11:00 AM):**\n",
            "\n",
            "* **Peanut Chikki (1-2 pieces):**  Provides healthy fats and energy.  Alternatively, you could have a handful of roasted peanuts or a small bowl of chivda.\n",
            "\n",
            "**Lunch (1:00 PM - 2:00 PM):**\n",
            "\n",
            "* **Bhakri (2-3):**  A traditional Maharashtrian flatbread made from jowar or bajra flour.  These are filling and provide complex carbohydrates.\n",
            "* **Vegetable Curry (1.5 cups):**  A hearty vegetable curry like a mixed vegetable curry with potatoes, peas, beans, and coconut milk for added calories and healthy fats.\n",
            "* **Dal (1 cup):**  A lentil soup, providing protein and fiber.  Choose a calorie-dense dal like Toor dal or Masoor dal.\n",
            "* **Curd/Yogurt (1 cup):**  A good source of probiotics and protein.\n",
            "\n",
            "**Evening Snack (5:00 PM - 6:00 PM):**\n",
            "\n",
            "* **Upma (1 cup):** A savory porridge made from semolina.  Add some ghee or nuts for extra calories.  Alternatively, you could have a batata vada (potato fritter).\n",
            "* **A glass of milk (full-fat):**  Again, for added calories and nutrients.\n",
            "\n",
            "**Dinner (8:00 PM - 9:00 PM):**\n",
            "\n",
            "* **Rice (1.5 cups):**  A staple carbohydrate source.  You can have plain rice or jeera rice.\n",
            "* **Vegetable Sabzi (1 cup):**  A simple vegetable stir-fry with potatoes or other calorie-dense vegetables.\n",
            "* **Roti (2):**  Wheat flatbread.\n",
            "* **Raita (1 cup):**  A yogurt-based side dish, adding probiotics and creaminess.\n",
            "\n",
            "\n",
            "**Important Considerations:**\n",
            "\n",
            "* **Healthy Fats:** Incorporate healthy fats like ghee, coconut oil, nuts, and seeds throughout the day.\n",
            "* **Protein:** Ensure adequate protein intake through lentils, milk, yogurt, and nuts.\n",
            "* **Hydration:** Drink plenty of water throughout the day.\n",
            "* **Variety:**  Vary your vegetables and dals to get a wider range of nutrients.\n",
            "* **Gradual Increase:** Gradually increase portion sizes to avoid digestive issues.\n",
            "* **Physical Activity:** Combine this meal plan with regular physical activity for optimal weight gain and overall health.\n",
            "\n",
            "\n",
            "This is just a suggestion, and you may need to adjust it based on your individual needs and preferences.  Remember to consult a healthcare professional or registered dietitian for personalized advice.  शुभेच्छा! (Shubhechha! - Best wishes!)\n",
            "\n",
            "📊 Daily Nutrition Goal:\n",
            "Calories: 1238 kcal, Protein: 43 g\n",
            "\n",
            "🧾 What did you eat today:\n",
            "🍽️ Breakfast: nothing\n",
            "🍽️ Lunch: khichdi\n",
            "🍽️ Dinner: dal roti chawal\n",
            "🍽️ Snacks: burger\n",
            "\n",
            "📋 Logged Intake:\n",
            "It's impossible to give exact calorie and protein counts without knowing the specific ingredients and portion sizes for each meal.  Khichdi, dal, roti, chawal (rice), and burgers vary wildly in calorie and protein content depending on preparation and ingredients.\n",
            "\n",
            "However, I can give you a *rough estimate* based on common preparations:\n",
            "\n",
            "* **Khichdi (1.5 cups):**  Could range from 300-500 kcal, 15-25g protein.\n",
            "* **Dal, Roti, Chawal (1 serving each):** Could range from 400-600 kcal, 20-30g protein.  (This depends heavily on the type of dal and the size of the roti and serving of rice).\n",
            "* **Burger (average fast-food style):** Could range from 500-800 kcal, 20-30g protein.\n",
            "\n",
            "**Therefore, a very rough estimate would be:**\n",
            "\n",
            "**Calories: 1200-1900 kcal, Protein: 55-85g**\n",
            "\n",
            "This is a wide range.  For a more accurate calculation, you would need to specify:\n",
            "\n",
            "* **Khichdi:** Type of lentils and rice used, amount of ghee/oil, vegetables added.\n",
            "* **Dal:** Type of lentils, amount of ghee/oil, vegetables added.\n",
            "* **Roti:** Type of flour (wheat, multigrain), size of roti.\n",
            "* **Chawal:** Type of rice (white, brown), amount.\n",
            "* **Burger:** Type of burger (beef, chicken, veggie), size, additions (cheese, bacon, etc.).\n",
            "\n",
            "\n",
            "Using a nutrition tracking app and inputting the specific ingredients and quantities would provide a much more precise estimate.\n",
            "\n",
            "📉 Remaining Today:\n",
            "Calories left: 38 kcal, Protein left: 0 g\n",
            "\n",
            "🏃 Exercise/Yoga:\n",
            "This workout focuses on building muscle mass, which is crucial for healthy weight gain.  Remember to consult a doctor or nutritionist before starting any new workout or diet plan.  Proper nutrition is *essential* for weight gain. This workout should be done 3-4 times a week with rest days in between.\n",
            "\n",
            "**Warm-up (5 minutes):**\n",
            "\n",
            "* **Surya Namaskar (Sun Salutations):** 5 rounds. This warms up the entire body and improves flexibility.  Focus on proper form.\n",
            "* **Jumping Jacks:** 30 seconds\n",
            "* **High Knees:** 30 seconds\n",
            "* **Butt Kicks:** 30 seconds\n",
            "\n",
            "**Workout (30 minutes):**\n",
            "\n",
            "**(Focus on controlled movements and proper form.  Start with lighter weights or resistance and gradually increase as you get stronger.)**\n",
            "\n",
            "* **Squats:** 3 sets of 10-12 repetitions.  You can hold dumbbells or water bottles for added resistance.\n",
            "* **Lunges (alternating legs):** 3 sets of 10-12 repetitions per leg.  Again, add weights if comfortable.\n",
            "* **Push-ups (on knees if needed):** 3 sets of as many repetitions as possible (AMRAP).  Gradually work towards full push-ups.\n",
            "* **Plank:** 3 sets, hold for 30-60 seconds each.\n",
            "* **Chair Dips:** 3 sets of 10-12 repetitions. Use a sturdy chair.\n",
            "* **Dumbbell Rows (or use water bottles):** 3 sets of 10-12 repetitions per arm.  Maintain a straight back.\n",
            "* **Standing Calf Raises:** 3 sets of 15-20 repetitions.\n",
            "\n",
            "**Cool-down (5 minutes):**\n",
            "\n",
            "* **Child's Pose:** Hold for 30 seconds.\n",
            "* **Downward-Facing Dog:** Hold for 30 seconds.\n",
            "* **Easy Seated Forward Bend:** Hold for 30 seconds.\n",
            "* **Gentle stretches for legs and arms.**\n",
            "\n",
            "\n",
            "**Important Considerations:**\n",
            "\n",
            "* **Progressive Overload:** Gradually increase the weight, repetitions, or sets as you get stronger. This is key for muscle growth.\n",
            "* **Nutrition:**  Consume a calorie surplus with a focus on protein-rich foods like lentils, beans, milk, yogurt, paneer, eggs (if you eat them), chicken, and fish.  Include healthy fats and complex carbohydrates.\n",
            "* **Rest:**  Adequate sleep (7-9 hours) is crucial for muscle recovery and growth.\n",
            "* **Listen to your body:**  Don't push yourself too hard, especially when starting. Rest when needed.\n",
            "* **Consistency:** The key to seeing results is consistency. Stick to your workout and nutrition plan.\n",
            "\n",
            "\n",
            "This is a sample workout. You can adjust it based on your fitness level and preferences.  Consider exploring other bodyweight exercises or incorporating yoga poses that build strength, like Warrior poses or Boat pose.  If you have access to a gym, incorporating weight training would be even more beneficial for weight gain.  Remember to prioritize proper form to avoid injuries.\n"
          ]
        }
      ]
    }
  ]
}